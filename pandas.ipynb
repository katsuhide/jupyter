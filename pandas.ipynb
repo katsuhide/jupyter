{
 "cells": [
  {
   "cell_type": "code",
   "execution_count": 2,
   "metadata": {
    "collapsed": true
   },
   "outputs": [],
   "source": [
    "import numpy as np\n",
    "import pandas as pd"
   ]
  },
  {
   "cell_type": "code",
   "execution_count": 3,
   "metadata": {
    "collapsed": false
   },
   "outputs": [
    {
     "data": {
      "text/plain": [
       "DatetimeIndex(['2013-01-01', '2013-01-02', '2013-01-03', '2013-01-04',\n",
       "               '2013-01-05', '2013-01-06'],\n",
       "              dtype='datetime64[ns]', freq='D')"
      ]
     },
     "execution_count": 3,
     "metadata": {},
     "output_type": "execute_result"
    }
   ],
   "source": [
    "dates = pd.date_range(\"20130101\", periods=6)\n",
    "dates"
   ]
  },
  {
   "cell_type": "code",
   "execution_count": 4,
   "metadata": {
    "collapsed": false
   },
   "outputs": [
    {
     "data": {
      "text/html": [
       "<div>\n",
       "<table border=\"1\" class=\"dataframe\">\n",
       "  <thead>\n",
       "    <tr style=\"text-align: right;\">\n",
       "      <th></th>\n",
       "      <th>A</th>\n",
       "      <th>B</th>\n",
       "      <th>C</th>\n",
       "      <th>D</th>\n",
       "    </tr>\n",
       "  </thead>\n",
       "  <tbody>\n",
       "    <tr>\n",
       "      <th>2013-01-01</th>\n",
       "      <td>-0.118251</td>\n",
       "      <td>-0.866321</td>\n",
       "      <td>-1.749245</td>\n",
       "      <td>1.159825</td>\n",
       "    </tr>\n",
       "    <tr>\n",
       "      <th>2013-01-02</th>\n",
       "      <td>2.541842</td>\n",
       "      <td>-1.530412</td>\n",
       "      <td>0.012320</td>\n",
       "      <td>-0.975587</td>\n",
       "    </tr>\n",
       "    <tr>\n",
       "      <th>2013-01-03</th>\n",
       "      <td>-0.098923</td>\n",
       "      <td>-0.615426</td>\n",
       "      <td>1.223090</td>\n",
       "      <td>0.535878</td>\n",
       "    </tr>\n",
       "    <tr>\n",
       "      <th>2013-01-04</th>\n",
       "      <td>-1.421957</td>\n",
       "      <td>0.527518</td>\n",
       "      <td>-0.079078</td>\n",
       "      <td>0.709001</td>\n",
       "    </tr>\n",
       "    <tr>\n",
       "      <th>2013-01-05</th>\n",
       "      <td>0.079845</td>\n",
       "      <td>-1.316202</td>\n",
       "      <td>-1.123249</td>\n",
       "      <td>-0.242836</td>\n",
       "    </tr>\n",
       "    <tr>\n",
       "      <th>2013-01-06</th>\n",
       "      <td>0.351377</td>\n",
       "      <td>-1.362060</td>\n",
       "      <td>0.504089</td>\n",
       "      <td>-0.629227</td>\n",
       "    </tr>\n",
       "  </tbody>\n",
       "</table>\n",
       "</div>"
      ],
      "text/plain": [
       "                   A         B         C         D\n",
       "2013-01-01 -0.118251 -0.866321 -1.749245  1.159825\n",
       "2013-01-02  2.541842 -1.530412  0.012320 -0.975587\n",
       "2013-01-03 -0.098923 -0.615426  1.223090  0.535878\n",
       "2013-01-04 -1.421957  0.527518 -0.079078  0.709001\n",
       "2013-01-05  0.079845 -1.316202 -1.123249 -0.242836\n",
       "2013-01-06  0.351377 -1.362060  0.504089 -0.629227"
      ]
     },
     "execution_count": 4,
     "metadata": {},
     "output_type": "execute_result"
    }
   ],
   "source": [
    "df = pd.DataFrame(np.random.randn(6,4),index = dates, columns = list(\"ABCD\"))\n",
    "df"
   ]
  },
  {
   "cell_type": "code",
   "execution_count": 5,
   "metadata": {
    "collapsed": false
   },
   "outputs": [
    {
     "data": {
      "text/plain": [
       "DatetimeIndex(['2013-01-01', '2013-01-02', '2013-01-03', '2013-01-04',\n",
       "               '2013-01-05', '2013-01-06'],\n",
       "              dtype='datetime64[ns]', freq='D')"
      ]
     },
     "execution_count": 5,
     "metadata": {},
     "output_type": "execute_result"
    }
   ],
   "source": [
    "df.index"
   ]
  },
  {
   "cell_type": "code",
   "execution_count": 6,
   "metadata": {
    "collapsed": false
   },
   "outputs": [
    {
     "data": {
      "text/plain": [
       "Index(['A', 'B', 'C', 'D'], dtype='object')"
      ]
     },
     "execution_count": 6,
     "metadata": {},
     "output_type": "execute_result"
    }
   ],
   "source": [
    "df.columns"
   ]
  },
  {
   "cell_type": "code",
   "execution_count": 7,
   "metadata": {
    "collapsed": false
   },
   "outputs": [
    {
     "data": {
      "text/plain": [
       "array([[-0.11825081, -0.86632136, -1.74924512,  1.15982474],\n",
       "       [ 2.54184238, -1.53041151,  0.01231956, -0.97558729],\n",
       "       [-0.09892271, -0.61542584,  1.22308953,  0.53587802],\n",
       "       [-1.42195655,  0.5275185 , -0.07907801,  0.70900134],\n",
       "       [ 0.07984489, -1.31620236, -1.12324919, -0.24283613],\n",
       "       [ 0.35137681, -1.36205979,  0.50408906, -0.62922667]])"
      ]
     },
     "execution_count": 7,
     "metadata": {},
     "output_type": "execute_result"
    }
   ],
   "source": [
    "df.values"
   ]
  },
  {
   "cell_type": "code",
   "execution_count": 8,
   "metadata": {
    "collapsed": false
   },
   "outputs": [
    {
     "data": {
      "text/html": [
       "<div>\n",
       "<table border=\"1\" class=\"dataframe\">\n",
       "  <thead>\n",
       "    <tr style=\"text-align: right;\">\n",
       "      <th></th>\n",
       "      <th>A</th>\n",
       "      <th>B</th>\n",
       "      <th>C</th>\n",
       "      <th>D</th>\n",
       "    </tr>\n",
       "  </thead>\n",
       "  <tbody>\n",
       "    <tr>\n",
       "      <th>count</th>\n",
       "      <td>6.000000</td>\n",
       "      <td>6.000000</td>\n",
       "      <td>6.000000</td>\n",
       "      <td>6.000000</td>\n",
       "    </tr>\n",
       "    <tr>\n",
       "      <th>mean</th>\n",
       "      <td>0.222322</td>\n",
       "      <td>-0.860484</td>\n",
       "      <td>-0.202012</td>\n",
       "      <td>0.092842</td>\n",
       "    </tr>\n",
       "    <tr>\n",
       "      <th>std</th>\n",
       "      <td>1.291508</td>\n",
       "      <td>0.760881</td>\n",
       "      <td>1.080107</td>\n",
       "      <td>0.835463</td>\n",
       "    </tr>\n",
       "    <tr>\n",
       "      <th>min</th>\n",
       "      <td>-1.421957</td>\n",
       "      <td>-1.530412</td>\n",
       "      <td>-1.749245</td>\n",
       "      <td>-0.975587</td>\n",
       "    </tr>\n",
       "    <tr>\n",
       "      <th>25%</th>\n",
       "      <td>-0.113419</td>\n",
       "      <td>-1.350595</td>\n",
       "      <td>-0.862206</td>\n",
       "      <td>-0.532629</td>\n",
       "    </tr>\n",
       "    <tr>\n",
       "      <th>50%</th>\n",
       "      <td>-0.009539</td>\n",
       "      <td>-1.091262</td>\n",
       "      <td>-0.033379</td>\n",
       "      <td>0.146521</td>\n",
       "    </tr>\n",
       "    <tr>\n",
       "      <th>75%</th>\n",
       "      <td>0.283494</td>\n",
       "      <td>-0.678150</td>\n",
       "      <td>0.381147</td>\n",
       "      <td>0.665721</td>\n",
       "    </tr>\n",
       "    <tr>\n",
       "      <th>max</th>\n",
       "      <td>2.541842</td>\n",
       "      <td>0.527518</td>\n",
       "      <td>1.223090</td>\n",
       "      <td>1.159825</td>\n",
       "    </tr>\n",
       "  </tbody>\n",
       "</table>\n",
       "</div>"
      ],
      "text/plain": [
       "              A         B         C         D\n",
       "count  6.000000  6.000000  6.000000  6.000000\n",
       "mean   0.222322 -0.860484 -0.202012  0.092842\n",
       "std    1.291508  0.760881  1.080107  0.835463\n",
       "min   -1.421957 -1.530412 -1.749245 -0.975587\n",
       "25%   -0.113419 -1.350595 -0.862206 -0.532629\n",
       "50%   -0.009539 -1.091262 -0.033379  0.146521\n",
       "75%    0.283494 -0.678150  0.381147  0.665721\n",
       "max    2.541842  0.527518  1.223090  1.159825"
      ]
     },
     "execution_count": 8,
     "metadata": {},
     "output_type": "execute_result"
    }
   ],
   "source": [
    "df.describe()"
   ]
  },
  {
   "cell_type": "code",
   "execution_count": 9,
   "metadata": {
    "collapsed": false
   },
   "outputs": [
    {
     "data": {
      "text/html": [
       "<div>\n",
       "<table border=\"1\" class=\"dataframe\">\n",
       "  <thead>\n",
       "    <tr style=\"text-align: right;\">\n",
       "      <th></th>\n",
       "      <th>2013-01-01 00:00:00</th>\n",
       "      <th>2013-01-02 00:00:00</th>\n",
       "      <th>2013-01-03 00:00:00</th>\n",
       "      <th>2013-01-04 00:00:00</th>\n",
       "      <th>2013-01-05 00:00:00</th>\n",
       "      <th>2013-01-06 00:00:00</th>\n",
       "    </tr>\n",
       "  </thead>\n",
       "  <tbody>\n",
       "    <tr>\n",
       "      <th>A</th>\n",
       "      <td>-0.118251</td>\n",
       "      <td>2.541842</td>\n",
       "      <td>-0.098923</td>\n",
       "      <td>-1.421957</td>\n",
       "      <td>0.079845</td>\n",
       "      <td>0.351377</td>\n",
       "    </tr>\n",
       "    <tr>\n",
       "      <th>B</th>\n",
       "      <td>-0.866321</td>\n",
       "      <td>-1.530412</td>\n",
       "      <td>-0.615426</td>\n",
       "      <td>0.527518</td>\n",
       "      <td>-1.316202</td>\n",
       "      <td>-1.362060</td>\n",
       "    </tr>\n",
       "    <tr>\n",
       "      <th>C</th>\n",
       "      <td>-1.749245</td>\n",
       "      <td>0.012320</td>\n",
       "      <td>1.223090</td>\n",
       "      <td>-0.079078</td>\n",
       "      <td>-1.123249</td>\n",
       "      <td>0.504089</td>\n",
       "    </tr>\n",
       "    <tr>\n",
       "      <th>D</th>\n",
       "      <td>1.159825</td>\n",
       "      <td>-0.975587</td>\n",
       "      <td>0.535878</td>\n",
       "      <td>0.709001</td>\n",
       "      <td>-0.242836</td>\n",
       "      <td>-0.629227</td>\n",
       "    </tr>\n",
       "  </tbody>\n",
       "</table>\n",
       "</div>"
      ],
      "text/plain": [
       "   2013-01-01  2013-01-02  2013-01-03  2013-01-04  2013-01-05  2013-01-06\n",
       "A   -0.118251    2.541842   -0.098923   -1.421957    0.079845    0.351377\n",
       "B   -0.866321   -1.530412   -0.615426    0.527518   -1.316202   -1.362060\n",
       "C   -1.749245    0.012320    1.223090   -0.079078   -1.123249    0.504089\n",
       "D    1.159825   -0.975587    0.535878    0.709001   -0.242836   -0.629227"
      ]
     },
     "execution_count": 9,
     "metadata": {},
     "output_type": "execute_result"
    }
   ],
   "source": [
    "df.T"
   ]
  },
  {
   "cell_type": "code",
   "execution_count": 11,
   "metadata": {
    "collapsed": false
   },
   "outputs": [
    {
     "data": {
      "text/html": [
       "<div>\n",
       "<table border=\"1\" class=\"dataframe\">\n",
       "  <thead>\n",
       "    <tr style=\"text-align: right;\">\n",
       "      <th></th>\n",
       "      <th>A</th>\n",
       "      <th>B</th>\n",
       "      <th>C</th>\n",
       "      <th>D</th>\n",
       "    </tr>\n",
       "  </thead>\n",
       "  <tbody>\n",
       "    <tr>\n",
       "      <th>2013-01-02</th>\n",
       "      <td>2.541842</td>\n",
       "      <td>-1.530412</td>\n",
       "      <td>0.012320</td>\n",
       "      <td>-0.975587</td>\n",
       "    </tr>\n",
       "    <tr>\n",
       "      <th>2013-01-06</th>\n",
       "      <td>0.351377</td>\n",
       "      <td>-1.362060</td>\n",
       "      <td>0.504089</td>\n",
       "      <td>-0.629227</td>\n",
       "    </tr>\n",
       "    <tr>\n",
       "      <th>2013-01-05</th>\n",
       "      <td>0.079845</td>\n",
       "      <td>-1.316202</td>\n",
       "      <td>-1.123249</td>\n",
       "      <td>-0.242836</td>\n",
       "    </tr>\n",
       "    <tr>\n",
       "      <th>2013-01-01</th>\n",
       "      <td>-0.118251</td>\n",
       "      <td>-0.866321</td>\n",
       "      <td>-1.749245</td>\n",
       "      <td>1.159825</td>\n",
       "    </tr>\n",
       "    <tr>\n",
       "      <th>2013-01-03</th>\n",
       "      <td>-0.098923</td>\n",
       "      <td>-0.615426</td>\n",
       "      <td>1.223090</td>\n",
       "      <td>0.535878</td>\n",
       "    </tr>\n",
       "    <tr>\n",
       "      <th>2013-01-04</th>\n",
       "      <td>-1.421957</td>\n",
       "      <td>0.527518</td>\n",
       "      <td>-0.079078</td>\n",
       "      <td>0.709001</td>\n",
       "    </tr>\n",
       "  </tbody>\n",
       "</table>\n",
       "</div>"
      ],
      "text/plain": [
       "                   A         B         C         D\n",
       "2013-01-02  2.541842 -1.530412  0.012320 -0.975587\n",
       "2013-01-06  0.351377 -1.362060  0.504089 -0.629227\n",
       "2013-01-05  0.079845 -1.316202 -1.123249 -0.242836\n",
       "2013-01-01 -0.118251 -0.866321 -1.749245  1.159825\n",
       "2013-01-03 -0.098923 -0.615426  1.223090  0.535878\n",
       "2013-01-04 -1.421957  0.527518 -0.079078  0.709001"
      ]
     },
     "execution_count": 11,
     "metadata": {},
     "output_type": "execute_result"
    }
   ],
   "source": [
    "df.sort_values(by='B')"
   ]
  },
  {
   "cell_type": "code",
   "execution_count": 12,
   "metadata": {
    "collapsed": false
   },
   "outputs": [
    {
     "data": {
      "text/html": [
       "<div>\n",
       "<table border=\"1\" class=\"dataframe\">\n",
       "  <thead>\n",
       "    <tr style=\"text-align: right;\">\n",
       "      <th></th>\n",
       "      <th>A</th>\n",
       "      <th>B</th>\n",
       "    </tr>\n",
       "  </thead>\n",
       "  <tbody>\n",
       "    <tr>\n",
       "      <th>2013-01-02</th>\n",
       "      <td>2.541842</td>\n",
       "      <td>-1.530412</td>\n",
       "    </tr>\n",
       "    <tr>\n",
       "      <th>2013-01-03</th>\n",
       "      <td>-0.098923</td>\n",
       "      <td>-0.615426</td>\n",
       "    </tr>\n",
       "    <tr>\n",
       "      <th>2013-01-04</th>\n",
       "      <td>-1.421957</td>\n",
       "      <td>0.527518</td>\n",
       "    </tr>\n",
       "  </tbody>\n",
       "</table>\n",
       "</div>"
      ],
      "text/plain": [
       "                   A         B\n",
       "2013-01-02  2.541842 -1.530412\n",
       "2013-01-03 -0.098923 -0.615426\n",
       "2013-01-04 -1.421957  0.527518"
      ]
     },
     "execution_count": 12,
     "metadata": {},
     "output_type": "execute_result"
    }
   ],
   "source": [
    "df.loc['20130102':'20130104',['A','B']]"
   ]
  },
  {
   "cell_type": "code",
   "execution_count": null,
   "metadata": {
    "collapsed": true
   },
   "outputs": [],
   "source": []
  }
 ],
 "metadata": {
  "kernelspec": {
   "display_name": "Python 3",
   "language": "python",
   "name": "python3"
  },
  "language_info": {
   "codemirror_mode": {
    "name": "ipython",
    "version": 3
   },
   "file_extension": ".py",
   "mimetype": "text/x-python",
   "name": "python",
   "nbconvert_exporter": "python",
   "pygments_lexer": "ipython3",
   "version": "3.5.1"
  }
 },
 "nbformat": 4,
 "nbformat_minor": 0
}
